{
 "cells": [
  {
   "cell_type": "code",
   "execution_count": null,
   "id": "e5efff4b-8eb5-4081-812c-e8f16ab86362",
   "metadata": {},
   "outputs": [
    {
     "name": "stdin",
     "output_type": "stream",
     "text": [
      "Enter current screen brightness (0-100):  90\n",
      "Enter theme mode (Light/Dark):  dark\n"
     ]
    },
    {
     "name": "stdout",
     "output_type": "stream",
     "text": [
      "✅ Saved: {'timestamp': '2025-08-22 12:46:48', 'avg_pixel_brightness': 255, 'time_of_day': 'Afternoon', 'screen_brightness': 90, 'theme_mode': 'Dark'}\n"
     ]
    },
    {
     "name": "stdin",
     "output_type": "stream",
     "text": [
      "Enter current screen brightness (0-100):  90\n",
      "Enter theme mode (Light/Dark):  light\n"
     ]
    },
    {
     "name": "stdout",
     "output_type": "stream",
     "text": [
      "✅ Saved: {'timestamp': '2025-08-22 12:47:23', 'avg_pixel_brightness': 127, 'time_of_day': 'Afternoon', 'screen_brightness': 90, 'theme_mode': 'Light'}\n"
     ]
    },
    {
     "name": "stdin",
     "output_type": "stream",
     "text": [
      "Enter current screen brightness (0-100):  90\n",
      "Enter theme mode (Light/Dark):  dark\n"
     ]
    },
    {
     "name": "stdout",
     "output_type": "stream",
     "text": [
      "✅ Saved: {'timestamp': '2025-08-22 12:47:30', 'avg_pixel_brightness': 127, 'time_of_day': 'Afternoon', 'screen_brightness': 90, 'theme_mode': 'Dark'}\n"
     ]
    },
    {
     "name": "stdin",
     "output_type": "stream",
     "text": [
      "Enter current screen brightness (0-100):  80\n",
      "Enter theme mode (Light/Dark):  light\n"
     ]
    },
    {
     "name": "stdout",
     "output_type": "stream",
     "text": [
      "✅ Saved: {'timestamp': '2025-08-22 12:48:13', 'avg_pixel_brightness': 127, 'time_of_day': 'Afternoon', 'screen_brightness': 80, 'theme_mode': 'Light'}\n"
     ]
    },
    {
     "name": "stdin",
     "output_type": "stream",
     "text": [
      "Enter current screen brightness (0-100):  90\n",
      "Enter theme mode (Light/Dark):  dark\n"
     ]
    },
    {
     "name": "stdout",
     "output_type": "stream",
     "text": [
      "✅ Saved: {'timestamp': '2025-08-22 12:48:22', 'avg_pixel_brightness': 126, 'time_of_day': 'Afternoon', 'screen_brightness': 90, 'theme_mode': 'Dark'}\n"
     ]
    },
    {
     "name": "stdin",
     "output_type": "stream",
     "text": [
      "Enter current screen brightness (0-100):  90\n",
      "Enter theme mode (Light/Dark):  light\n"
     ]
    },
    {
     "name": "stdout",
     "output_type": "stream",
     "text": [
      "✅ Saved: {'timestamp': '2025-08-22 12:48:53', 'avg_pixel_brightness': 114, 'time_of_day': 'Afternoon', 'screen_brightness': 90, 'theme_mode': 'Light'}\n"
     ]
    },
    {
     "name": "stdin",
     "output_type": "stream",
     "text": [
      "Enter current screen brightness (0-100):  90\n",
      "Enter theme mode (Light/Dark):  dark\n"
     ]
    },
    {
     "name": "stdout",
     "output_type": "stream",
     "text": [
      "✅ Saved: {'timestamp': '2025-08-22 12:49:10', 'avg_pixel_brightness': 133, 'time_of_day': 'Afternoon', 'screen_brightness': 90, 'theme_mode': 'Dark'}\n"
     ]
    },
    {
     "name": "stdin",
     "output_type": "stream",
     "text": [
      "Enter current screen brightness (0-100):  96\n",
      "Enter theme mode (Light/Dark):  light\n"
     ]
    },
    {
     "name": "stdout",
     "output_type": "stream",
     "text": [
      "✅ Saved: {'timestamp': '2025-08-22 12:50:44', 'avg_pixel_brightness': 124, 'time_of_day': 'Afternoon', 'screen_brightness': 96, 'theme_mode': 'Light'}\n"
     ]
    },
    {
     "name": "stdin",
     "output_type": "stream",
     "text": [
      "Enter current screen brightness (0-100):  90\n",
      "Enter theme mode (Light/Dark):  dark\n"
     ]
    },
    {
     "name": "stdout",
     "output_type": "stream",
     "text": [
      "✅ Saved: {'timestamp': '2025-08-22 12:50:54', 'avg_pixel_brightness': 127, 'time_of_day': 'Afternoon', 'screen_brightness': 90, 'theme_mode': 'Dark'}\n"
     ]
    },
    {
     "name": "stdin",
     "output_type": "stream",
     "text": [
      "Enter current screen brightness (0-100):  90\n",
      "Enter theme mode (Light/Dark):  dark\n"
     ]
    },
    {
     "name": "stdout",
     "output_type": "stream",
     "text": [
      "✅ Saved: {'timestamp': '2025-08-22 12:51:08', 'avg_pixel_brightness': 130, 'time_of_day': 'Afternoon', 'screen_brightness': 90, 'theme_mode': 'Dark'}\n"
     ]
    },
    {
     "name": "stdin",
     "output_type": "stream",
     "text": [
      "Enter current screen brightness (0-100):  90\n",
      "Enter theme mode (Light/Dark):  light\n"
     ]
    },
    {
     "name": "stdout",
     "output_type": "stream",
     "text": [
      "✅ Saved: {'timestamp': '2025-08-22 12:51:22', 'avg_pixel_brightness': 111, 'time_of_day': 'Afternoon', 'screen_brightness': 90, 'theme_mode': 'Light'}\n"
     ]
    },
    {
     "name": "stdin",
     "output_type": "stream",
     "text": [
      "Enter current screen brightness (0-100):  80\n",
      "Enter theme mode (Light/Dark):  light\n"
     ]
    },
    {
     "name": "stdout",
     "output_type": "stream",
     "text": [
      "✅ Saved: {'timestamp': '2025-08-22 12:51:35', 'avg_pixel_brightness': 116, 'time_of_day': 'Afternoon', 'screen_brightness': 80, 'theme_mode': 'Light'}\n"
     ]
    },
    {
     "name": "stdin",
     "output_type": "stream",
     "text": [
      "Enter current screen brightness (0-100):  40\n",
      "Enter theme mode (Light/Dark):  light\n"
     ]
    },
    {
     "name": "stdout",
     "output_type": "stream",
     "text": [
      "✅ Saved: {'timestamp': '2025-08-22 12:52:29', 'avg_pixel_brightness': 126, 'time_of_day': 'Afternoon', 'screen_brightness': 40, 'theme_mode': 'Light'}\n"
     ]
    },
    {
     "name": "stdin",
     "output_type": "stream",
     "text": [
      "Enter current screen brightness (0-100):  40\n",
      "Enter theme mode (Light/Dark):  light\n"
     ]
    },
    {
     "name": "stdout",
     "output_type": "stream",
     "text": [
      "✅ Saved: {'timestamp': '2025-08-22 12:52:54', 'avg_pixel_brightness': 125, 'time_of_day': 'Afternoon', 'screen_brightness': 40, 'theme_mode': 'Light'}\n"
     ]
    },
    {
     "name": "stdin",
     "output_type": "stream",
     "text": [
      "Enter current screen brightness (0-100):  80\n",
      "Enter theme mode (Light/Dark):  light\n"
     ]
    },
    {
     "name": "stdout",
     "output_type": "stream",
     "text": [
      "✅ Saved: {'timestamp': '2025-08-22 12:53:19', 'avg_pixel_brightness': 126, 'time_of_day': 'Afternoon', 'screen_brightness': 80, 'theme_mode': 'Light'}\n"
     ]
    },
    {
     "name": "stdin",
     "output_type": "stream",
     "text": [
      "Enter current screen brightness (0-100):  80\n",
      "Enter theme mode (Light/Dark):  light\n"
     ]
    },
    {
     "name": "stdout",
     "output_type": "stream",
     "text": [
      "✅ Saved: {'timestamp': '2025-08-22 12:53:57', 'avg_pixel_brightness': 115, 'time_of_day': 'Afternoon', 'screen_brightness': 80, 'theme_mode': 'Light'}\n"
     ]
    },
    {
     "name": "stdin",
     "output_type": "stream",
     "text": [
      "Enter current screen brightness (0-100):  70\n"
     ]
    }
   ],
   "source": [
    "## import cv2\n",
    "\n",
    "import cv2\n",
    "import pandas as pd\n",
    "from datetime import datetime\n",
    "\n",
    "# Open webcam\n",
    "cap = cv2.VideoCapture(0)\n",
    "\n",
    "# CSV file path\n",
    "csv_file = \"ambient_light_dataset.csv\"\n",
    "\n",
    "# Load existing dataset or create empty one\n",
    "try:\n",
    "    df = pd.read_csv(csv_file)\n",
    "except FileNotFoundError:\n",
    "    df = pd.DataFrame(columns=[\"timestamp\", \"avg_pixel_brightness\", \"time_of_day\", \"screen_brightness\", \"theme_mode\"])\n",
    "\n",
    "# Helper: time of day\n",
    "def get_time_of_day(hour):\n",
    "    if 6 <= hour < 12:\n",
    "        return \"Morning\"\n",
    "    elif 12 <= hour < 18:\n",
    "        return \"Afternoon\"\n",
    "    elif 18 <= hour < 21:\n",
    "        return \"Evening\"\n",
    "    else:\n",
    "        return \"Night\"\n",
    "\n",
    "while True:\n",
    "    ret, frame = cap.read()\n",
    "    if not ret:\n",
    "        print(\"⚠️ Failed to capture image from webcam\")\n",
    "        break\n",
    "\n",
    "    # Show live webcam feed\n",
    "    cv2.imshow(\"Webcam Preview (press q to quit)\", frame)\n",
    "\n",
    "    # Calculate average brightness\n",
    "    gray = cv2.cvtColor(frame, cv2.COLOR_BGR2GRAY)\n",
    "    avg_brightness = int(gray.mean())\n",
    "\n",
    "    # Get timestamp + time of day\n",
    "    now = datetime.now()\n",
    "    timestamp = now.strftime(\"%Y-%m-%d %H:%M:%S\")\n",
    "    time_of_day = get_time_of_day(now.hour)\n",
    "\n",
    "    # Ask user input once per frame\n",
    "    screen_brightness = int(input(\"Enter current screen brightness (0-100): \"))\n",
    "    theme_mode = input(\"Enter theme mode (Light/Dark): \").capitalize()\n",
    "\n",
    "    # Save new row\n",
    "    new_data = {\n",
    "        \"timestamp\": timestamp,\n",
    "        \"avg_pixel_brightness\": avg_brightness,\n",
    "        \"time_of_day\": time_of_day,\n",
    "        \"screen_brightness\": screen_brightness,\n",
    "        \"theme_mode\": theme_mode\n",
    "    }\n",
    "    df = pd.concat([df, pd.DataFrame([new_data])], ignore_index=True)\n",
    "    df.to_csv(csv_file, index=False)\n",
    "\n",
    "    print(f\"✅ Saved: {new_data}\")\n",
    "    \n",
    "\n",
    "    # Exit when pressing q\n",
    "    if cv2.waitKey(1) & 0xFF == ord('q'):\n",
    "        break\n",
    "\n",
    "# Release camera\n",
    "cap.release()\n",
    "cv2.destroyAllWindows()\n",
    "\n"
   ]
  },
  {
   "cell_type": "code",
   "execution_count": null,
   "id": "6c742a68-0bc9-4638-9007-fe1cbb4de113",
   "metadata": {},
   "outputs": [],
   "source": []
  },
  {
   "cell_type": "code",
   "execution_count": null,
   "id": "1d83c454-53f6-4e9a-9471-d1a20abc0b7d",
   "metadata": {},
   "outputs": [],
   "source": []
  },
  {
   "cell_type": "code",
   "execution_count": null,
   "id": "8c33c10b-3cc2-49f0-981d-e1ba1a0be5fc",
   "metadata": {},
   "outputs": [],
   "source": []
  }
 ],
 "metadata": {
  "kernelspec": {
   "display_name": "Python [conda env:base] *",
   "language": "python",
   "name": "conda-base-py"
  },
  "language_info": {
   "codemirror_mode": {
    "name": "ipython",
    "version": 3
   },
   "file_extension": ".py",
   "mimetype": "text/x-python",
   "name": "python",
   "nbconvert_exporter": "python",
   "pygments_lexer": "ipython3",
   "version": "3.13.5"
  }
 },
 "nbformat": 4,
 "nbformat_minor": 5
}
