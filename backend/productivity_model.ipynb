{
 "cells": [
  {
   "cell_type": "code",
   "execution_count": 1,
   "id": "8bfd9b08-9acc-4235-b130-97670414ca29",
   "metadata": {},
   "outputs": [
    {
     "name": "stderr",
     "output_type": "stream",
     "text": [
      "C:\\Users\\bawantha\\AppData\\Local\\Temp\\ipykernel_4028\\547672681.py:26: UserWarning: Could not infer format, so each element will be parsed individually, falling back to `dateutil`. To ensure parsing is consistent and as-expected, please specify a format.\n",
      "  df[\"time\"] = pd.to_datetime(df[\"time\"], errors=\"coerce\")\n",
      "C:\\Users\\bawantha\\AppData\\Roaming\\Python\\Python313\\site-packages\\sklearn\\metrics\\_classification.py:1731: UndefinedMetricWarning: Precision is ill-defined and being set to 0.0 in labels with no predicted samples. Use `zero_division` parameter to control this behavior.\n",
      "  _warn_prf(average, modifier, f\"{metric.capitalize()} is\", result.shape[0])\n",
      "C:\\Users\\bawantha\\AppData\\Roaming\\Python\\Python313\\site-packages\\sklearn\\metrics\\_classification.py:1731: UndefinedMetricWarning: Precision is ill-defined and being set to 0.0 in labels with no predicted samples. Use `zero_division` parameter to control this behavior.\n",
      "  _warn_prf(average, modifier, f\"{metric.capitalize()} is\", result.shape[0])\n",
      "C:\\Users\\bawantha\\AppData\\Roaming\\Python\\Python313\\site-packages\\sklearn\\metrics\\_classification.py:1731: UndefinedMetricWarning: Precision is ill-defined and being set to 0.0 in labels with no predicted samples. Use `zero_division` parameter to control this behavior.\n",
      "  _warn_prf(average, modifier, f\"{metric.capitalize()} is\", result.shape[0])\n"
     ]
    },
    {
     "name": "stdout",
     "output_type": "stream",
     "text": [
      "\n",
      "Logistic Regression Results\n",
      "Accuracy: 0.7725856697819314\n",
      "Confusion Matrix:\n",
      " [[  0 292]\n",
      " [  0 992]]\n",
      "Classification Report:\n",
      "               precision    recall  f1-score   support\n",
      "\n",
      "           0       0.00      0.00      0.00       292\n",
      "           1       0.77      1.00      0.87       992\n",
      "\n",
      "    accuracy                           0.77      1284\n",
      "   macro avg       0.39      0.50      0.44      1284\n",
      "weighted avg       0.60      0.77      0.67      1284\n",
      "\n",
      "\n",
      "Random Forest Results\n",
      "Accuracy: 0.9914330218068536\n",
      "Confusion Matrix:\n",
      " [[283   9]\n",
      " [  2 990]]\n",
      "Classification Report:\n",
      "               precision    recall  f1-score   support\n",
      "\n",
      "           0       0.99      0.97      0.98       292\n",
      "           1       0.99      1.00      0.99       992\n",
      "\n",
      "    accuracy                           0.99      1284\n",
      "   macro avg       0.99      0.98      0.99      1284\n",
      "weighted avg       0.99      0.99      0.99      1284\n",
      "\n",
      "\n",
      "Naive Bayes Results\n",
      "Accuracy: 0.7725856697819314\n",
      "Confusion Matrix:\n",
      " [[  0 292]\n",
      " [  0 992]]\n",
      "Classification Report:\n",
      "               precision    recall  f1-score   support\n",
      "\n",
      "           0       0.00      0.00      0.00       292\n",
      "           1       0.77      1.00      0.87       992\n",
      "\n",
      "    accuracy                           0.77      1284\n",
      "   macro avg       0.39      0.50      0.44      1284\n",
      "weighted avg       0.60      0.77      0.67      1284\n",
      "\n",
      "\n",
      " Best Model: Random Forest with Accuracy = 0.99\n",
      "Model saved as productivity_model.pkl\n"
     ]
    },
    {
     "name": "stderr",
     "output_type": "stream",
     "text": [
      "C:\\Users\\bawantha\\AppData\\Roaming\\Python\\Python313\\site-packages\\sklearn\\metrics\\_classification.py:1731: UndefinedMetricWarning: Precision is ill-defined and being set to 0.0 in labels with no predicted samples. Use `zero_division` parameter to control this behavior.\n",
      "  _warn_prf(average, modifier, f\"{metric.capitalize()} is\", result.shape[0])\n",
      "C:\\Users\\bawantha\\AppData\\Roaming\\Python\\Python313\\site-packages\\sklearn\\metrics\\_classification.py:1731: UndefinedMetricWarning: Precision is ill-defined and being set to 0.0 in labels with no predicted samples. Use `zero_division` parameter to control this behavior.\n",
      "  _warn_prf(average, modifier, f\"{metric.capitalize()} is\", result.shape[0])\n",
      "C:\\Users\\bawantha\\AppData\\Roaming\\Python\\Python313\\site-packages\\sklearn\\metrics\\_classification.py:1731: UndefinedMetricWarning: Precision is ill-defined and being set to 0.0 in labels with no predicted samples. Use `zero_division` parameter to control this behavior.\n",
      "  _warn_prf(average, modifier, f\"{metric.capitalize()} is\", result.shape[0])\n"
     ]
    }
   ],
   "source": [
    "import pandas as pd\n",
    "import numpy as np\n",
    "from sklearn.model_selection import train_test_split, cross_val_score\n",
    "from sklearn.preprocessing import LabelEncoder\n",
    "from sklearn.metrics import classification_report, confusion_matrix, accuracy_score\n",
    "from sklearn.linear_model import LogisticRegression\n",
    "from sklearn.ensemble import RandomForestClassifier\n",
    "\n",
    "from sklearn.naive_bayes import GaussianNB\n",
    "\n",
    "# --------------------------\n",
    "# Load dataset\n",
    "# --------------------------\n",
    "df = pd.read_csv(\"Computer Productivity Dataset.csv\", sep=\",\")\n",
    "\n",
    "# Fix case: if CSV loads as one column\n",
    "if len(df.columns) == 1:\n",
    "    df = df.iloc[:, 0].str.split(\",\", expand=True)\n",
    "    df.columns = [\"user_id\", \"time\", \"app_name\", \"duration_seconds\", \"is_productive\"]\n",
    "\n",
    "# Convert datatypes\n",
    "df[\"duration_seconds\"] = pd.to_numeric(df[\"duration_seconds\"], errors=\"coerce\")\n",
    "df[\"is_productive\"] = df[\"is_productive\"].map({\"TRUE\": 1, \"FALSE\": 0})\n",
    "\n",
    "# Extract features\n",
    "df[\"time\"] = pd.to_datetime(df[\"time\"], errors=\"coerce\")\n",
    "df[\"hour\"] = df[\"time\"].dt.hour\n",
    "\n",
    "# Encode categorical app names\n",
    "le_app = LabelEncoder()\n",
    "df[\"app_encoded\"] = le_app.fit_transform(df[\"app_name\"])\n",
    "\n",
    "# --------------------------\n",
    "# Features & Target\n",
    "# --------------------------\n",
    "X = df[[\"duration_seconds\", \"hour\", \"app_encoded\"]]\n",
    "y = df[\"is_productive\"]\n",
    "\n",
    "X_train, X_test, y_train, y_test = train_test_split(\n",
    "    X, y, test_size=0.2, random_state=42, stratify=y\n",
    ")\n",
    "\n",
    "# --------------------------\n",
    "# Models to compare\n",
    "# --------------------------\n",
    "models = {\n",
    "    \"Logistic Regression\": LogisticRegression(max_iter=1000),\n",
    "    \"Random Forest\": RandomForestClassifier(n_estimators=100, random_state=42),\n",
    "    \"Naive Bayes\": GaussianNB()\n",
    "}\n",
    "\n",
    "results = {}\n",
    "\n",
    "for name, model in models.items():\n",
    "    model.fit(X_train, y_train)\n",
    "    y_pred = model.predict(X_test)\n",
    "\n",
    "    acc = accuracy_score(y_test, y_pred)\n",
    "    results[name] = acc\n",
    "\n",
    "    print(f\"\\n{name} Results\")\n",
    "    print(\"Accuracy:\", acc)\n",
    "    print(\"Confusion Matrix:\\n\", confusion_matrix(y_test, y_pred))\n",
    "    print(\"Classification Report:\\n\", classification_report(y_test, y_pred))\n",
    "\n",
    "# --------------------------\n",
    "# Pick the best model\n",
    "# --------------------------\n",
    "best_model_name = max(results, key=results.get)\n",
    "print(f\"\\n Best Model: {best_model_name} with Accuracy = {results[best_model_name]:.2f}\")\n",
    "\n",
    "best_model = models[best_model_name]\n",
    "\n",
    "# --------------------------\n",
    "# Save best model\n",
    "# --------------------------\n",
    "import joblib\n",
    "joblib.dump(best_model, \"productivity_model.pkl\")\n",
    "print(\"Model saved as productivity_model.pkl\")\n"
   ]
  },
  {
   "cell_type": "code",
   "execution_count": 3,
   "id": "848d8468-c752-43af-a50c-c5ea844880ed",
   "metadata": {},
   "outputs": [
    {
     "name": "stdout",
     "output_type": "stream",
     "text": [
      "  user_id      time        app_name  duration_seconds  is_productive  hour  \\\n",
      "0    2062  15:20:36  calculator.exe              5244              1    15   \n",
      "1    2048  20:00:42   photoshop.exe              2046              1    20   \n",
      "2    2004  13:12:18    inkscape.exe              5094              1    13   \n",
      "3    2012  09:43:54      chrome.exe              4535              0     9   \n",
      "4    2031  08:37:42     outlook.exe               699              1     8   \n",
      "\n",
      "   app_encoded  \n",
      "0            8  \n",
      "1           32  \n",
      "2           23  \n",
      "3            9  \n",
      "4           30  \n"
     ]
    }
   ],
   "source": [
    "# Keep only time (drop the date part)\n",
    "df[\"time\"] = df[\"time\"].dt.time\n",
    "\n",
    "print(df.head())\n",
    "\n"
   ]
  },
  {
   "cell_type": "code",
   "execution_count": 4,
   "id": "e4a7b4d0-dee4-4366-a493-04dcb5226e33",
   "metadata": {},
   "outputs": [
    {
     "data": {
      "image/png": "[encoded data removed]",
      "text/plain": [
       "<Figure size 700x500 with 1 Axes>"
      ]
     },
     "metadata": {},
     "output_type": "display_data"
    }
   ],
   "source": [
    "import matplotlib.pyplot as plt\n",
    "\n",
    "# Model performance values\n",
    "models = [\"Logistic Regression\", \"Naive Bayes\", \"Random Forest\"]\n",
    "accuracies = [0.77, 0.77, 0.99]\n",
    "\n",
    "# Plot\n",
    "plt.figure(figsize=(7,5))\n",
    "plt.bar(models, accuracies)\n",
    "plt.ylim(0,1.1)\n",
    "plt.ylabel(\"Accuracy\")\n",
    "plt.title(\"Comparison of Model Accuracies for Productivity Prediction\")\n",
    "\n",
    "# Add values above bars\n",
    "for i, acc in enumerate(accuracies):\n",
    "    plt.text(i, acc + 0.02, f\"{acc:.2f}\", ha='center')\n",
    "\n",
    "plt.show()\n",
    "\n"
   ]
  },
  {
   "cell_type": "code",
   "execution_count": null,
   "id": "ac56d5fc-b598-4df3-859a-e8cbc2461f2b",
   "metadata": {},
   "outputs": [],
   "source": []
  }
 ],
 "metadata": {
  "kernelspec": {
   "display_name": "Python [conda env:base] *",
   "language": "python",
   "name": "conda-base-py"
  },
  "language_info": {
   "codemirror_mode": {
    "name": "ipython",
    "version": 3
   },
   "file_extension": ".py",
   "mimetype": "text/x-python",
   "name": "python",
   "nbconvert_exporter": "python",
   "pygments_lexer": "ipython3",
   "version": "3.13.5"
  }
 },
 "nbformat": 4,
 "nbformat_minor": 5
}
